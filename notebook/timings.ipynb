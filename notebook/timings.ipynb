{
 "cells": [
  {
   "cell_type": "markdown",
   "id": "moved-diploma",
   "metadata": {},
   "source": [
    "# Load data"
   ]
  },
  {
   "cell_type": "code",
   "execution_count": 16,
   "id": "existing-entity",
   "metadata": {},
   "outputs": [],
   "source": [
    "%matplotlib inline"
   ]
  },
  {
   "cell_type": "code",
   "execution_count": 17,
   "id": "visible-amendment",
   "metadata": {},
   "outputs": [],
   "source": [
    "import sys\n",
    "import numpy as np\n",
    "import pandas as pd\n",
    "import seaborn as sns\n",
    "import matplotlib.pyplot as plt"
   ]
  },
  {
   "cell_type": "code",
   "execution_count": 18,
   "id": "decimal-praise",
   "metadata": {},
   "outputs": [],
   "source": [
    "TEST_PATH = \"../data/test_results5/stats.csv\""
   ]
  },
  {
   "cell_type": "code",
   "execution_count": 27,
   "id": "advised-ready",
   "metadata": {},
   "outputs": [],
   "source": [
    "def load_ndata(filename):\n",
    "    dcu = pd.read_csv(filename)\n",
    "    data = {\n",
    "        'model': dcu['model'].to_numpy(),\n",
    "        'model_triangles': dcu[' model_triangles'].to_numpy(),\n",
    "        'total_ms': dcu[' total_ms'].to_numpy() / 1000, #to seconds (?)\n",
    "    }\n",
    "    \n",
    "    #(marzia) Questo penso che non sia necessario\n",
    "    #data['seconds'] = np.clip(data['seconds'], 0.000001, 10000.0)\n",
    "    #cond = data['seconds'] < 0.001\n",
    "    #data['hue'] = np.select([cond], [1], default=0)\n",
    "    return data"
   ]
  },
  {
   "cell_type": "code",
   "execution_count": 34,
   "id": "cosmetic-uncle",
   "metadata": {},
   "outputs": [
    {
     "name": "stdout",
     "output_type": "stream",
     "text": [
      "204\n"
     ]
    }
   ],
   "source": [
    "data = load_ndata(TEST_PATH)\n",
    "print(len(data['model']))"
   ]
  },
  {
   "cell_type": "markdown",
   "id": "responsible-mumbai",
   "metadata": {},
   "source": [
    "# Meshes"
   ]
  },
  {
   "cell_type": "code",
   "execution_count": 21,
   "id": "sweet-insider",
   "metadata": {},
   "outputs": [
    {
     "data": {
      "text/plain": [
       "102484"
      ]
     },
     "execution_count": 21,
     "metadata": {},
     "output_type": "execute_result"
    }
   ],
   "source": [
    "min(data['model_triangles'])"
   ]
  },
  {
   "cell_type": "code",
   "execution_count": 22,
   "id": "incorporated-falls",
   "metadata": {},
   "outputs": [
    {
     "data": {
      "text/plain": [
       "3154110"
      ]
     },
     "execution_count": 22,
     "metadata": {},
     "output_type": "execute_result"
    }
   ],
   "source": [
    "max(data['model_triangles'])"
   ]
  },
  {
   "cell_type": "markdown",
   "id": "secure-teach",
   "metadata": {},
   "source": [
    "# Timings"
   ]
  },
  {
   "cell_type": "code",
   "execution_count": 32,
   "id": "false-endorsement",
   "metadata": {},
   "outputs": [
    {
     "data": {
      "image/png": "[encoded data removed]",
      "text/plain": [
       "<Figure size 288x288 with 1 Axes>"
      ]
     },
     "metadata": {
      "needs_background": "light"
     },
     "output_type": "display_data"
    }
   ],
   "source": [
    "plt.figure(figsize=(4,4));\n",
    "ax = plt.gca();\n",
    "# ax.set_xlim(left=0.000001,right=2.5);\n",
    "# ax.set_ylim(bottom=0,top=0.75);\n",
    "sns.histplot(x=data['total_ms'], log_scale=True, bins=10, kde=True, element='step', stat='density', ax=ax);\n",
    "plt.xlabel('Time in milliseconds');\n",
    "plt.ylabel('Density');\n",
    "#plt.title(\"\");\n",
    "plt.savefig(\"timings.pdf\");"
   ]
  },
  {
   "cell_type": "code",
   "execution_count": 36,
   "id": "southern-former",
   "metadata": {},
   "outputs": [
    {
     "data": {
      "image/png": "[encoded data removed]",
      "text/plain": [
       "<Figure size 432x288 with 1 Axes>"
      ]
     },
     "metadata": {
      "needs_background": "light"
     },
     "output_type": "display_data"
    }
   ],
   "source": [
    "plt.figure();\n",
    "plt.xlabel('Time over triangles');\n",
    "plt.ylabel('Density');\n",
    "sns.histplot(x=data['total_ms']/data['model_triangles'], log_scale=True, bins=10, kde=True, element='step', stat='density');"
   ]
  },
  {
   "cell_type": "code",
   "execution_count": 31,
   "id": "phantom-advancement",
   "metadata": {},
   "outputs": [
    {
     "name": "stdout",
     "output_type": "stream",
     "text": [
      "percent below 0.001\n",
      "0.0\n",
      "percent below 0.1\n",
      "0.9656862745098039\n",
      "percenline 90%\n",
      "0.038736656800000005\n",
      "percenline 99%\n",
      "0.4818211852399999\n"
     ]
    }
   ],
   "source": [
    "print('percent below 0.001')\n",
    "print(np.count_nonzero(data['total_ms'] < 0.001) / len(data['total_ms']))\n",
    "    \n",
    "print('percent below 0.1')\n",
    "print(np.count_nonzero(data['total_ms'] < 0.1) / len(data['total_ms']))\n",
    "\n",
    "print('percenline 90%')\n",
    "print(np.percentile(data['total_ms'], 90))\n",
    "\n",
    "print('percenline 99%')\n",
    "print(np.percentile(data['total_ms'], 99))"
   ]
  }
 ],
 "metadata": {
  "kernelspec": {
   "display_name": "Python 3",
   "language": "python",
   "name": "python3"
  },
  "language_info": {
   "codemirror_mode": {
    "name": "ipython",
    "version": 3
   },
   "file_extension": ".py",
   "mimetype": "text/x-python",
   "name": "python",
   "nbconvert_exporter": "python",
   "pygments_lexer": "ipython3",
   "version": "3.7.9"
  }
 },
 "nbformat": 4,
 "nbformat_minor": 5
}
